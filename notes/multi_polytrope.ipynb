{
 "cells": [
  {
   "cell_type": "code",
   "execution_count": 1,
   "metadata": {
    "collapsed": false
   },
   "outputs": [],
   "source": [
    "%matplotlib inline\n",
    "import numpy as np\n",
    "import matplotlib.pyplot as plt\n",
    "from dedalus import public as de\n",
    "\n",
    "import logging\n",
    "logger = logging.getLogger(__name__)"
   ]
  },
  {
   "cell_type": "code",
   "execution_count": 2,
   "metadata": {
    "collapsed": false
   },
   "outputs": [],
   "source": [
    "'''\n",
    "     Estimate atmospheric parameters based on properties of\n",
    "     a single polytrope in the convection zone and a second\n",
    "     one in the radiative zone.\n",
    "'''\n",
    "# Thanks:\n",
    "# http://stackoverflow.com/questions/1408818/getting-the-the-keyword-arguments-actually-passed-to-a-python-method\n",
    "# and\n",
    "# https://docs.python.org/3.4/library/inspect.html#inspect.getfullargspec\n",
    "def keyword_wrapper(f):\n",
    "    import inspect\n",
    "    sig = inspect.signature(f)\n",
    "    print(\"sig: {}\".format(sig))\n",
    "    #kw_dict = dict(sig)\n",
    "    #print(kw_dict)\n",
    "\n",
    "#@keyword_wrapper\n",
    "def compute_atmosphere_parameters(Rayleigh_top=1e8, Prandtl_top=1, gamma=5/3,\n",
    "                                  n_rho_cz=3, n_rho_rz=2, \n",
    "                                  m_rz=3, stiffness=100):\n",
    "    # inputs:\n",
    "    # Rayleigh_top = g dS L_cz**3/(chi_top**2 * Pr_top)\n",
    "    # Prandtl_top = nu_top/chi_top\n",
    "    # gamma = c_p/c_v\n",
    "    # n_rho_cz = ??\n",
    "    # n_rho_rz = ??\n",
    "    # m_rz = polytropic index of radiative zone\n",
    "    # stiffness = (m_rz - m_ad)/(m_ad - m_cz)\n",
    "    \n",
    "    # this is not a totally awesome solution,\n",
    "    # but inspect.signature and inspect.getfullargspec\n",
    "    # are failing to get the actual entered values (vs. defaults)\n",
    "    # this will choke if we have imports.\n",
    "    #\n",
    "    # This only gets the kwargs if it's the first thing called\n",
    "    entered_parameters = locals()\n",
    "    \n",
    "    m_ad = 1/(gamma-1)\n",
    "    \n",
    "    epsilon = (m_rz - m_ad)/stiffness\n",
    "    m_cz = m_ad - epsilon\n",
    "    \n",
    "    kappa_ratio = (m_rz + 1)/(m_cz + 1)\n",
    "\n",
    "    # T = del_T*(z-z_interface) + T_interface\n",
    "    # del_T = -g/(m+1) = -(m_cz+1)/(m+1)\n",
    "    # example: cz: z_interface = L_cz (top), T_interface = 1, del_T = -1\n",
    "    #     .: T = -1*(z - L_cz) + 1 = (L_cz + 1 - z) = (z0 - z)\n",
    "    # this recovers the Lecoanet et al 2014 notation\n",
    "    #\n",
    "    # T_bot = -del_T*z_interface + T_interface\n",
    "    # n_rho = ln(rho_bot/rho_interface) = m*ln(T_bot/T_interface)\n",
    "    #       = m*ln(-del_T*z_interface/T_interface + 1)\n",
    "    # \n",
    "    # z_interface = (T_interface/(-del_T))*(np.exp(n_rho/m)-1)\n",
    "    L_cz = np.exp(n_rho_cz/m_cz)-1\n",
    "    \n",
    "    del_T_rz = -(m_cz+1)/(m_rz+1)\n",
    "    T_interface = (L_cz+1) # T at bottom of CZ\n",
    "    L_rz = T_interface/(-del_T_rz)*(np.exp(n_rho_rz/m_rz)-1)\n",
    "\n",
    "    L_tot = L_cz + L_rz\n",
    "    \n",
    "    z_cz = L_cz + 1\n",
    "    \n",
    "    delta_S = epsilon*(gamma-1)/gamma*np.log(z_cz)\n",
    "    \n",
    "    g = (m_cz + 1)\n",
    "    \n",
    "    chi_top = np.sqrt((g*delta_S*L_cz**3)/(Rayleigh_top*Prandtl_top))\n",
    "    nu_top = chi_top*Prandtl_top\n",
    "    \n",
    "    parameters = dict()\n",
    "    parameters['chi_top'] = chi_top\n",
    "    parameters['nu_top']  = nu_top\n",
    "    parameters['kappa_ratio'] = kappa_ratio\n",
    "    parameters['L_cz'] = L_cz\n",
    "    parameters['L_rz'] = L_rz\n",
    "    parameters['L_tot'] = L_tot\n",
    "    parameters['m_ad'] = m_ad\n",
    "    parameters['m_cz'] = m_cz\n",
    "    parameters['epsilon'] = epsilon\n",
    "    parameters['delta_S'] = delta_S\n",
    "    parameters['gamma'] = gamma\n",
    "    parameters['g'] = g\n",
    "\n",
    "    parameters.update(entered_parameters)\n",
    "    \n",
    "    return parameters"
   ]
  },
  {
   "cell_type": "code",
   "execution_count": 3,
   "metadata": {
    "collapsed": true
   },
   "outputs": [],
   "source": [
    "def compute_kappa_profile(parameters, z, kappa, tanh_width=0.1):\n",
    "\n",
    "    tanh_center = parameters['L_rz']\n",
    "    kappa_top = parameters['chi_top']\n",
    "    kappa_ratio = parameters['kappa_ratio']\n",
    "    \n",
    "    phi = (1/2*(1-np.tanh((z-tanh_center)/tanh_width)))\n",
    "    inv_phi = 1-phi\n",
    "    kappa['g'] = (phi*kappa_ratio+inv_phi)*kappa_top\n",
    "    logger.debug(\"kappa ratio: {}\".format(kappa['g'][0]/kappa['g'][-1]))\n",
    "\n",
    "    fig = plt.figure()\n",
    "    ax = fig.add_subplot(1,1,1)\n",
    "    ax.plot(z, phi)\n",
    "    ax.plot(z, inv_phi)\n",
    "    ax.plot(z, phi+inv_phi, linestyle='dashed')\n",
    "    ax.set_ylim(0,1.1)\n",
    "    ax.set_xlabel('z')\n",
    "    ax.set_ylabel(r'$\\Phi$(z)')\n",
    "    "
   ]
  },
  {
   "cell_type": "code",
   "execution_count": 4,
   "metadata": {
    "collapsed": false
   },
   "outputs": [],
   "source": [
    "def multi_polytrope(parameters, show_plots=True):\n",
    "\n",
    "    Lz = parameters['L_tot']\n",
    "    z_basis = de.Chebyshev('z', 1024, interval=(0, Lz), dealias=3/2)\n",
    "    domain = de.Domain([z_basis], grid_dtype=np.float64)\n",
    "    z = domain.grid(0)\n",
    "\n",
    "    epsilon = parameters['epsilon']\n",
    "    m_ad = parameters['m_ad']\n",
    "    m_cz = parameters['m_cz']\n",
    "    m_rz = parameters['m_rz']\n",
    "\n",
    "    kappa = domain.new_field()\n",
    "    del_T = domain.new_field()\n",
    "    T = domain.new_field()\n",
    "    \n",
    "    compute_kappa_profile(parameters, z, kappa)        \n",
    "    \n",
    "    flux_top = -parameters['chi_top']\n",
    "    del_T['g'] = flux_top/kappa['g']\n",
    "    \n",
    "    del_T.antidifferentiate('z',('right',0), out=T)\n",
    "    T['g'] += 1\n",
    "    T.set_scales((1,), keep_data=True)\n",
    "    z_dealias = domain.grid(axis=0, scales=domain.dealias)\n",
    "    \n",
    "    g = parameters['g']\n",
    "    del_ln_P = domain.new_field()\n",
    "    ln_P = domain.new_field()\n",
    "    P = domain.new_field()\n",
    "\n",
    "    # assumes ideal gas equation of state\n",
    "    del_ln_P['g'] = g/T['g']\n",
    "    del_ln_P.antidifferentiate('z',('right',0),out=ln_P)\n",
    "    ln_P.set_scales(1, keep_data=True)\n",
    "    P['g'] = np.exp(-ln_P['g'])\n",
    "\n",
    "    rho = domain.new_field()\n",
    "    rho['g'] = P['g']/T['g']\n",
    "    rho.set_scales(1, keep_data=True)\n",
    "    \n",
    "    if show_plots:\n",
    "        fig = plt.figure()\n",
    "        ax1 = fig.add_subplot(2,1,1)\n",
    "        ax1.plot(z, T['g'])\n",
    "        ax1.set_ylabel(\"T\")\n",
    "        ax1.set_xlabel(\"z\")\n",
    "    \n",
    "        #fig = plt.figure()\n",
    "        ax2 = fig.add_subplot(2,1,2)\n",
    "        ax2.semilogy(z, rho['g'])\n",
    "        ax2.semilogy(z, P['g'])\n",
    "        ax2.set_ylabel(\"rho and P\")\n",
    "        ax2.set_xlabel(\"z\")\n",
    "        \n",
    "        grad_ln_rho = domain.new_field()\n",
    "        rho.differentiate('z', out=grad_ln_rho)\n",
    "        grad_ln_rho['g'] /= rho['g']\n",
    "        rho.set_scales(1, keep_data=True)\n",
    "        grad_ln_rho.set_scales(1, keep_data=True)\n",
    "        \n",
    "        fig = plt.figure()\n",
    "        ax1 = fig.add_subplot(1,1,1)\n",
    "        ax1.plot(z, grad_ln_rho['g'])\n",
    "        ax1.set_ylabel(r'$\\nabla \\ln \\rho$')\n",
    "        ax1.set_xlabel('z')\n",
    "        \n",
    "        fig = plt.figure()\n",
    "        ax1 = fig.add_subplot(1,1,1)\n",
    "        ax1.plot(z, kappa['g'])\n",
    "        ax1.set_ylabel(r'$\\kappa$')\n",
    "        ax1.set_xlabel('z')\n",
    "        \n",
    "\n",
    "    n_rho = np.log(rho['g'][0]/rho['g'][-1])\n",
    "    target_n_rho = parameters['n_rho_cz']+parameters['n_rho_rz']\n",
    "    logger.info(\"n_rho        = {}\".format(n_rho))\n",
    "    logger.info(\"target n_rho = {}\".format(target_n_rho))\n",
    "    logger.info(\"n_rho_error  = {}\".format(n_rho/target_n_rho-1))\n",
    "    logger.info(\"n_P = {}\".format(np.log(P['g'][0]/P['g'][-1])))\n",
    "\n",
    "    # error in hydrostatic balance diagnostic\n",
    "    del_P = domain.new_field()\n",
    "    P.differentiate('z', out=del_P)\n",
    "    del_P.set_scales(1, keep_data=True)\n",
    "    HS_balance = del_P['g']+g*rho['g']\n",
    "\n",
    "    if show_plots:\n",
    "        fig = plt.figure()\n",
    "        ax1 = fig.add_subplot(2,1,1)\n",
    "        ax1.plot(z, del_P['g'])\n",
    "        ax1.plot(z, -g*rho['g'])\n",
    "        ax1.set_ylabel(r'$\\nabla P$ and $\\rho g$')\n",
    "        ax1.set_xlabel('z')\n",
    "        \n",
    "        ax2 = fig.add_subplot(2,1,2)\n",
    "        ax2.semilogy(z, np.abs(HS_balance/del_P['g']))\n",
    "        ax2.set_ylabel(r'$|\\nabla P + \\rho g |/|del P|$')\n",
    "        ax2.set_xlabel('z')\n",
    "        \n",
    "    logger.info('max error in HS balance: {}'.format(np.max(np.abs(HS_balance/del_P['g']))))"
   ]
  },
  {
   "cell_type": "code",
   "execution_count": 5,
   "metadata": {
    "collapsed": false,
    "scrolled": true
   },
   "outputs": [
    {
     "name": "stderr",
     "output_type": "stream",
     "text": [
      "DEBUG:domain:Global coeff shape: [1024]\n",
      "DEBUG:distributor:Mesh: []\n",
      "DEBUG:__main__:kappa ratio: 1.600096005760346\n",
      "DEBUG:problems:Parsing Eqn 0\n",
      "DEBUG:problems:  Condition: True\n",
      "DEBUG:problems:  LHS string form: dz(out)\n",
      "DEBUG:problems:  RHS string form: f\n",
      "DEBUG:problems:  LHS object form: dz(out)\n",
      "DEBUG:problems:  RHS object form: f\n",
      "DEBUG:problems:  L linear form: dz(out)\n",
      "DEBUG:problems:Parsing BC 0\n",
      "DEBUG:problems:  Condition: True\n",
      "DEBUG:problems:  LHS string form: right(out)\n",
      "DEBUG:problems:  RHS string form: bc\n",
      "DEBUG:problems:  LHS object form: interp(out,'z',right)\n",
      "DEBUG:problems:  RHS object form: bc\n",
      "DEBUG:problems:  L linear form: interp(out,'z',right)\n",
      "DEBUG:solvers:Beginning LBVP instantiation\n",
      "INFO:pencil:Building pencil matrix 1/1 (~100%) Elapsed: 0s, Remaining: 0s, Rate: 2.4e+01/s\n"
     ]
    },
    {
     "name": "stdout",
     "output_type": "stream",
     "text": [
      "L_cz  : 6.390534205766878\n",
      "L_rz  : 11.207489806803213\n",
      "L_tot : 17.598024012570093\n",
      "2015-06-29 17:05:36,338 pencil 0/1 INFO :: Building pencil matrix 1/1 (~100%) Elapsed: 0s, Remaining: 0s, Rate: 2.4e+01/s\n"
     ]
    },
    {
     "name": "stderr",
     "output_type": "stream",
     "text": [
      "DEBUG:solvers:Finished LBVP instantiation\n",
      "DEBUG:basis:Building FFTW DCT plan for (dtype, gshape, axis) = (float64, (1024,), 0)\n",
      "DEBUG:basis:Building FFTW DCT plan for (dtype, gshape, axis) = (float64, (1536,), 0)\n",
      "DEBUG:problems:Parsing Eqn 0\n",
      "DEBUG:problems:  Condition: True\n",
      "DEBUG:problems:  LHS string form: dz(out)\n",
      "DEBUG:problems:  RHS string form: f\n",
      "DEBUG:problems:  LHS object form: dz(out)\n",
      "DEBUG:problems:  RHS object form: f\n",
      "DEBUG:problems:  L linear form: dz(out)\n",
      "DEBUG:problems:Parsing BC 0\n",
      "DEBUG:problems:  Condition: True\n",
      "DEBUG:problems:  LHS string form: right(out)\n",
      "DEBUG:problems:  RHS string form: bc\n",
      "DEBUG:problems:  LHS object form: interp(out,'z',right)\n",
      "DEBUG:problems:  RHS object form: bc\n",
      "DEBUG:problems:  L linear form: interp(out,'z',right)\n",
      "DEBUG:solvers:Beginning LBVP instantiation\n",
      "INFO:pencil:Building pencil matrix 1/1 (~100%) Elapsed: 0s, Remaining: 0s, Rate: 8.8e+01/s\n"
     ]
    },
    {
     "name": "stdout",
     "output_type": "stream",
     "text": [
      "2015-06-29 17:05:36,463 pencil 0/1 INFO :: Building pencil matrix 1/1 (~100%) Elapsed: 0s, Remaining: 0s, Rate: 8.8e+01/s\n"
     ]
    },
    {
     "name": "stderr",
     "output_type": "stream",
     "text": [
      "DEBUG:solvers:Finished LBVP instantiation\n",
      "INFO:__main__:n_rho        = 5.002995185469547\n"
     ]
    },
    {
     "name": "stdout",
     "output_type": "stream",
     "text": [
      "2015-06-29 17:05:36,665 __main__ 0/1 INFO :: n_rho        = 5.002995185469547\n"
     ]
    },
    {
     "name": "stderr",
     "output_type": "stream",
     "text": [
      "INFO:__main__:target n_rho = 5\n"
     ]
    },
    {
     "name": "stdout",
     "output_type": "stream",
     "text": [
      "2015-06-29 17:05:36,666 __main__ 0/1 INFO :: target n_rho = 5\n"
     ]
    },
    {
     "name": "stderr",
     "output_type": "stream",
     "text": [
      "INFO:__main__:n_rho_error  = 0.0005990370939092937\n"
     ]
    },
    {
     "name": "stdout",
     "output_type": "stream",
     "text": [
      "2015-06-29 17:05:36,667 __main__ 0/1 INFO :: n_rho_error  = 0.0005990370939092937\n"
     ]
    },
    {
     "name": "stderr",
     "output_type": "stream",
     "text": [
      "INFO:__main__:n_P = 7.669238537872771\n"
     ]
    },
    {
     "name": "stdout",
     "output_type": "stream",
     "text": [
      "2015-06-29 17:05:36,668 __main__ 0/1 INFO :: n_P = 7.669238537872771\n"
     ]
    },
    {
     "name": "stderr",
     "output_type": "stream",
     "text": [
      "INFO:__main__:max error in HS balance: 1.1157523039169397e-08\n"
     ]
    },
    {
     "name": "stdout",
     "output_type": "stream",
     "text": [
      "2015-06-29 17:05:36,774 __main__ 0/1 INFO :: max error in HS balance: 1.1157523039169397e-08\n"
     ]
    },
    {
     "data": {
      "image/png": "[encoded data removed]",
      "text/plain": [
       "<matplotlib.figure.Figure at 0x107d0fa58>"
      ]
     },
     "metadata": {},
     "output_type": "display_data"
    },
    {
     "data": {
      "image/png": "[encoded data removed]",
      "text/plain": [
       "<matplotlib.figure.Figure at 0x10b65c198>"
      ]
     },
     "metadata": {},
     "output_type": "display_data"
    },
    {
     "data": {
      "image/png": "[encoded data removed]",
      "text/plain": [
       "<matplotlib.figure.Figure at 0x10c41c5c0>"
      ]
     },
     "metadata": {},
     "output_type": "display_data"
    },
    {
     "data": {
      "image/png": "[encoded data removed]",
      "text/plain": [
       "<matplotlib.figure.Figure at 0x10c36a048>"
      ]
     },
     "metadata": {},
     "output_type": "display_data"
    },
    {
     "data": {
      "image/png": "[encoded data removed]",
      "text/plain": [
       "<matplotlib.figure.Figure at 0x10c38ebe0>"
      ]
     },
     "metadata": {},
     "output_type": "display_data"
    }
   ],
   "source": [
    "parameters = compute_atmosphere_parameters(stiffness=1e4, \n",
    "                                           n_rho_cz=3, \n",
    "                                           n_rho_rz=2)\n",
    "#for key in parameters.keys():\n",
    "#    print(\"{} : {}\".format(key, parameters[key]))\n",
    "print(\"L_cz  : {}\".format(parameters['L_cz']))\n",
    "print(\"L_rz  : {}\".format(parameters['L_rz']))\n",
    "print(\"L_tot : {}\".format(parameters['L_tot']))\n",
    "multi_polytrope(parameters, show_plots=True)"
   ]
  },
  {
   "cell_type": "code",
   "execution_count": null,
   "metadata": {
    "collapsed": true
   },
   "outputs": [],
   "source": []
  }
 ],
 "metadata": {
  "kernelspec": {
   "display_name": "Python 3",
   "language": "python",
   "name": "python3"
  },
  "language_info": {
   "codemirror_mode": {
    "name": "ipython",
    "version": 3
   },
   "file_extension": ".py",
   "mimetype": "text/x-python",
   "name": "python",
   "nbconvert_exporter": "python",
   "pygments_lexer": "ipython3",
   "version": "3.4.3"
  }
 },
 "nbformat": 4,
 "nbformat_minor": 0
}
