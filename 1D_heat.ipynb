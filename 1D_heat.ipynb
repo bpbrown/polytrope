{
 "cells": [
  {
   "cell_type": "code",
   "execution_count": 1,
   "metadata": {
    "collapsed": true
   },
   "outputs": [],
   "source": [
    "%matplotlib inline\n",
    "import numpy as np\n",
    "import matplotlib.pyplot as plt\n",
    "import logging\n",
    "logger = logging.getLogger(__name__)\n",
    "from dedalus import public as de"
   ]
  },
  {
   "cell_type": "code",
   "execution_count": 2,
   "metadata": {
    "collapsed": false
   },
   "outputs": [
    {
     "name": "stderr",
     "output_type": "stream",
     "text": [
      "DEBUG:domain:Global coeff shape: [256]\n",
      "DEBUG:distributor:Mesh: []\n",
      "DEBUG:problems:Parsing Eqn 0\n",
      "DEBUG:problems:  Condition: True\n",
      "DEBUG:problems:  LHS string form: Tz - dz(T)\n",
      "DEBUG:problems:  RHS string form: 0\n",
      "DEBUG:problems:  LHS object form: Tz + (-1*dz(T))\n",
      "DEBUG:problems:  RHS object form: 0\n",
      "DEBUG:problems:  M linear form: 0\n",
      "DEBUG:problems:  L linear form: Tz + (-1*dz(T))\n",
      "DEBUG:problems:Parsing Eqn 1\n",
      "DEBUG:problems:  Condition: True\n",
      "DEBUG:problems:  LHS string form: dt(T) - dz(Tz)\n",
      "DEBUG:problems:  RHS string form: source\n",
      "DEBUG:problems:  LHS object form: dt(T) + (-1*dz(Tz))\n",
      "DEBUG:problems:  RHS object form: source\n",
      "DEBUG:problems:  M linear form: T\n",
      "DEBUG:problems:  L linear form: -1*dz(Tz)\n",
      "DEBUG:problems:Parsing BC 0\n",
      "DEBUG:problems:  Condition: True\n",
      "DEBUG:problems:  LHS string form: left(T)\n",
      "DEBUG:problems:  RHS string form: 0\n",
      "DEBUG:problems:  LHS object form: interp(T,'z',left)\n",
      "DEBUG:problems:  RHS object form: 0\n",
      "DEBUG:problems:  M linear form: 0\n",
      "DEBUG:problems:  L linear form: interp(T,'z',left)\n",
      "DEBUG:problems:Parsing BC 1\n",
      "DEBUG:problems:  Condition: True\n",
      "DEBUG:problems:  LHS string form: right(T)\n",
      "DEBUG:problems:  RHS string form: 0\n",
      "DEBUG:problems:  LHS object form: interp(T,'z',right)\n",
      "DEBUG:problems:  RHS object form: 0\n",
      "DEBUG:problems:  M linear form: 0\n",
      "DEBUG:problems:  L linear form: interp(T,'z',right)\n"
     ]
    }
   ],
   "source": [
    "nz = 256\n",
    "z_basis = de.Chebyshev('z', nz, interval=[0, 1], dealias=3/2)\n",
    "domain = de.Domain([z_basis], grid_dtype=np.float64)\n",
    "problem = de.IVP(domain, variables=['T', 'Tz'])\n",
    "\n",
    "z = domain.grid(0)\n",
    "source = domain.new_field()\n",
    "source['g'] = np.sin(np.pi*z)\n",
    "problem.parameters['source'] = source\n",
    "\n",
    "problem.add_equation(\"Tz - dz(T) = 0\")\n",
    "problem.add_equation(\"dt(T) - dz(Tz) = source\")\n",
    "problem.add_bc(\"left(T) = 0\")\n",
    "problem.add_bc(\"right(T) = 0\")"
   ]
  },
  {
   "cell_type": "code",
   "execution_count": 3,
   "metadata": {
    "collapsed": false
   },
   "outputs": [
    {
     "name": "stderr",
     "output_type": "stream",
     "text": [
      "DEBUG:solvers:Beginning IVP instantiation\n",
      "INFO:pencil:Building pencil matrix 1/1 (~100%) Elapsed: 0s, Remaining: 0s, Rate: 6.0e+01/s\n"
     ]
    },
    {
     "name": "stdout",
     "output_type": "stream",
     "text": [
      "2015-06-12 13:44:46,183 pencil 0/1 INFO :: Building pencil matrix 1/1 (~100%) Elapsed: 0s, Remaining: 0s, Rate: 6.0e+01/s\n"
     ]
    },
    {
     "name": "stderr",
     "output_type": "stream",
     "text": [
      "DEBUG:solvers:Finished IVP instantiation\n"
     ]
    }
   ],
   "source": [
    "delta_t = 0.1\n",
    "ts = de.timesteppers.RK443\n",
    "cfl_safety_factor = 0.2*4\n",
    "\n",
    "# Build solver\n",
    "solver = problem.build_solver(ts)"
   ]
  },
  {
   "cell_type": "code",
   "execution_count": 4,
   "metadata": {
    "collapsed": true
   },
   "outputs": [],
   "source": [
    "T = solver.state['T']\n",
    "solver.stop_sim_time = 1\n",
    "solver.stop_iteration= np.inf\n",
    "solver.stop_wall_time = 120"
   ]
  },
  {
   "cell_type": "code",
   "execution_count": 5,
   "metadata": {
    "collapsed": false
   },
   "outputs": [
    {
     "name": "stderr",
     "output_type": "stream",
     "text": [
      "DEBUG:basis:Building FFTW DCT plan for (dtype, gshape, axis) = (float64, (256,), 0)\n",
      "INFO:solvers:Simulation stop time reached.\n"
     ]
    },
    {
     "name": "stdout",
     "output_type": "stream",
     "text": [
      "2015-06-12 13:44:47,468 solvers 0/1 INFO :: Simulation stop time reached.\n"
     ]
    },
    {
     "name": "stderr",
     "output_type": "stream",
     "text": [
      "/usr/local/lib/python3.4/site-packages/matplotlib/axes.py:4749: UserWarning: No labeled objects found. Use label='...' kwarg on individual plots.\n",
      "  warnings.warn(\"No labeled objects found. \"\n"
     ]
    },
    {
     "data": {
      "text/plain": [
       "<matplotlib.text.Text at 0x108d54828>"
      ]
     },
     "execution_count": 5,
     "metadata": {},
     "output_type": "execute_result"
    },
    {
     "data": {
      "image/png": "[encoded data removed]",
      "text/plain": [
       "<matplotlib.figure.Figure at 0x108d37518>"
      ]
     },
     "metadata": {},
     "output_type": "display_data"
    }
   ],
   "source": [
    "plot_cadence = 5\n",
    "counter_step = 5\n",
    "time_counter = counter_step\n",
    "report = False\n",
    "while solver.ok:\n",
    "    solver.step(delta_t)\n",
    "    if (solver.iteration % plot_cadence == 0):\n",
    "        t_index = \"{}\".format(time_counter)\n",
    "        \n",
    "        if (solver.iteration % (counter_step*plot_cadence) == 0):\n",
    "            print(solver.iteration, counter_step*plot_cadence)\n",
    "            plt.plot(z, T['g'], label=r\"$\\mathrm{t}_{\"+t_index+\"}$\")\n",
    "            time_counter += counter_step\n",
    "        else:\n",
    "            plt.plot(z, T['g'], linestyle='dashed')\n",
    "    \n",
    "    if report:\n",
    "        logger.info(\"{} : {:8.3e} -- max_T = {}\".format(solver.iteration, \n",
    "                                                        solver.sim_time, \n",
    "                                                        np.max(T['g'])))\n",
    "plt.legend()\n",
    "plt.xlabel('z')\n",
    "plt.ylabel('T')"
   ]
  },
  {
   "cell_type": "code",
   "execution_count": null,
   "metadata": {
    "collapsed": true
   },
   "outputs": [],
   "source": []
  }
 ],
 "metadata": {
  "kernelspec": {
   "display_name": "Python 3",
   "language": "python",
   "name": "python3"
  },
  "language_info": {
   "codemirror_mode": {
    "name": "ipython",
    "version": 3
   },
   "file_extension": ".py",
   "mimetype": "text/x-python",
   "name": "python",
   "nbconvert_exporter": "python",
   "pygments_lexer": "ipython3",
   "version": "3.4.3"
  }
 },
 "nbformat": 4,
 "nbformat_minor": 0
}
